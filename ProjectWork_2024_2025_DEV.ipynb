{
 "cells": [
  {
   "cell_type": "markdown",
   "metadata": {
    "id": "FbxzjHSBfPYY"
   },
   "source": [
    "# The Company K Case Study"
   ]
  },
  {
   "cell_type": "markdown",
   "metadata": {
    "id": "1pRN9SfgfaZ3"
   },
   "source": [
    "As part of the Supply Chain Management and Logistics Network Design course - Master's degree in Management Engineering - University of Bergamo\n",
    "\n",
    "(c) Prof. Roberto Pinto\n",
    "\n",
    "**This notebook contains all the data and functions required by the Company K case study. Press shift + enter in each cell to run the commands, or click on Run in the command bar.**"
   ]
  },
  {
   "cell_type": "code",
   "execution_count": null,
   "metadata": {},
   "outputs": [],
   "source": [
    "#RIMUOVERE PRIMA DEL RILASCIO\n",
    "%load_ext autoreload\n",
    "%autoreload 2"
   ]
  },
  {
   "cell_type": "code",
   "execution_count": null,
   "metadata": {
    "colab": {
     "base_uri": "https://localhost:8080/"
    },
    "id": "cco7OdqedpI4",
    "outputId": "40edbfe8-ccae-44ad-c2b5-90363a5eeab0"
   },
   "outputs": [],
   "source": [
    "# LASCIARE SOLO NELLA VERSIONE COLAB\n",
    "# Prepare the notebook\n",
    "!git clone --branch projectwork_24_25 https://github.com/ropinotex/network_optimization.git\n",
    "import sys\n",
    "sys.path.insert(0,'/content/network_optimization')\n",
    "\n",
    "!pip install -r /content/network_optimization/requirements.txt"
   ]
  },
  {
   "cell_type": "markdown",
   "metadata": {
    "id": "2isqVhxUpYMF"
   },
   "source": [
    "Import functions and data"
   ]
  },
  {
   "cell_type": "code",
   "execution_count": null,
   "metadata": {
    "id": "1_lfpokZeXhb"
   },
   "outputs": [],
   "source": [
    "# Functions\n",
    "from netopt_ui import netopt_ui, edit_warehouse_ui, add_warehouse_ui, delete_warehouse_ui\n",
    "from netopt_utils import plot_map, print_solution, show_assignments\n",
    "from netopt_compat import netopt\n",
    "from data_structures import (show_data, show_geo_map, set_capacity, set_all_capacities, set_fixed_cost,\n",
    "                             set_all_fixed_costs, scale_demand, scale_all_demands, set_demand,\n",
    "                             set_all_demands, get_demand, get_capacity)\n",
    "# Data\n",
    "from data.projectwork24_25_data import warehouses, customers"
   ]
  },
  {
   "cell_type": "markdown",
   "metadata": {
    "id": "sVzD2Q7Kpe_e"
   },
   "source": [
    "The functions available are the following:\n",
    "- netopt_ui() - solver's user interface to solve the optimization model\n",
    "- add_warehouse_ui() - user interface to add a new warehouse\n",
    "- edit_warehouse_ui() - user interface to edit warehouses's data\n",
    "- delete_warehouse_ui() - user interface to delete a warehouse\n",
    "\n",
    "Other low level functions are available to work with the data programmatically:\n",
    "- netopt() - solver function (without user interface)\n",
    "- set_capacity() - changes the capacity of a warehouse\n",
    "- set_all_capacities() - changes the capacity of all warehouses\n",
    "- set_fixed_cost() - changes the yearly fixed cost of a warehouse\n",
    "- set_all_fixed_costs() - changes the yearly fixed cost of all warehouses\n",
    "- scale_demand() - scales the demand of a customer by a factor\n",
    "- scale_all_demands() - scales the demand of all customer by a factor\n",
    "- set_demand() - changes the demand of a customer\n",
    "- set_all_demands() - changes the demand of all customers\n",
    "- print_solution() - prints detail of the solution\n",
    "- plot_map() - plots the map of customers and warehouses\n",
    "- show_geo_map() - plots the map of customers and warehouses on a geo graphic map\n",
    "- show_assignments() - displays the assignements\n",
    "- show_data() - shows the data in tabular form\n",
    "\n",
    "\n",
    "**Type the function name without parentheses and preceeded by _?_ to access a short description of the function and the parameters**\n",
    "\n",
    "Example:"
   ]
  },
  {
   "cell_type": "code",
   "execution_count": null,
   "metadata": {
    "id": "ltRqRxEVep3Q"
   },
   "outputs": [],
   "source": [
    "?netopt_ui"
   ]
  },
  {
   "cell_type": "markdown",
   "metadata": {
    "id": "AXbo1LgvptrF"
   },
   "source": [
    "**Show data**\n",
    "\n",
    "You can explore the data in several ways. Using show_data() provides a convenient way to display customers and warehouses. \n",
    "The capacity of the warehouses represents the maximum throughput, whereas the customers demand represent the estimated orders from each customer."
   ]
  },
  {
   "cell_type": "code",
   "execution_count": null,
   "metadata": {
    "colab": {
     "base_uri": "https://localhost:8080/"
    },
    "id": "3aeVL2OuexfH",
    "outputId": "08d3b698-7c81-4559-95cb-4eb3a64c77c0"
   },
   "outputs": [],
   "source": [
    "show_data(customers)\n",
    "# or\n",
    "# show_data(warehouses)"
   ]
  },
  {
   "cell_type": "markdown",
   "metadata": {},
   "source": [
    "You can simply show the variable content\n"
   ]
  },
  {
   "cell_type": "code",
   "execution_count": null,
   "metadata": {
    "colab": {
     "base_uri": "https://localhost:8080/"
    },
    "id": "7VgUMt_xe3Hu",
    "outputId": "0877cb31-f386-4d5b-918c-1427122fe7eb"
   },
   "outputs": [],
   "source": [
    "customers"
   ]
  },
  {
   "cell_type": "markdown",
   "metadata": {},
   "source": [
    "**Plot the data**\n",
    "\n",
    "You can control the colors and shapes in the plot using the following parameters (also in the netopt function):\n",
    "- warehouse_marker=shape of the warehouse icons. Allowed values are s=square, o=circle, *=star, ^=triangle, v=inverted triangle. Default is s \n",
    "- warehouse_markercolor=color of the warehouse icons. Allowed values are red, green, blue, black, yellow. Default is red\n",
    "- warehouse_markersize=size of the warehouse icons. Default is 4\n",
    "- warehouse_active_markersize=size of the warehouse icons representing active (open) warehouses. Default is 5\n",
    "- customer_marker=shape of the customer icons. Default is o\n",
    "- customer_markercolor=color of the customer icons. Default is blue\n",
    "- customer_markersize=size of the customer icons. Default is 4\n",
    "\n",
    "If you don't specify the above parameters about the figures, the default values will be assumed"
   ]
  },
  {
   "cell_type": "code",
   "execution_count": null,
   "metadata": {},
   "outputs": [],
   "source": [
    "plot_map(customers=customers,\n",
    "         warehouses=warehouses,\n",
    "         warehouse_marker='s',\n",
    "         warehouse_markercolor='red',\n",
    "         warehouse_markersize=6,\n",
    "         customer_marker='o',\n",
    "         customer_markercolor='blue',\n",
    "         customer_markersize=3)"
   ]
  },
  {
   "cell_type": "markdown",
   "metadata": {},
   "source": [
    "A better map can be shown using the following command. However, this map allows only for the\n",
    "visualization of location. To show the connections in the final solution you should use the plot_map command"
   ]
  },
  {
   "cell_type": "code",
   "execution_count": null,
   "metadata": {
    "colab": {
     "base_uri": "https://localhost:8080/",
     "height": 442
    },
    "id": "cI6VTgFPesrb",
    "outputId": "eeab6c3f-e501-47f0-ba6d-63b7b99f0542"
   },
   "outputs": [],
   "source": [
    "show_geo_map(warehouses=warehouses, customers=customers, zoom=6)"
   ]
  },
  {
   "cell_type": "markdown",
   "metadata": {
    "id": "J252ayMRqLGD"
   },
   "source": [
    "**Run the user interface**\n",
    "\n",
    "The user interface allows you control the solver. The solver uses the data passed as arguments as _warehouses_ and _customers_.\n",
    "\n",
    "- **Problem type**: The type of problem to be solved\n",
    "- **# Warehouses**: Number of warehouses to activate (value of _p_ in the p-median problems)\n",
    "- **Func. to minimize**: Minimize either the average waighted distance (AWD) or the total cost (only for p-median problems)\n",
    "- **Service radius**: Defines the catchment area in a p-cover problem\n",
    "- **Dist. Ranges**: Defines the cut points to measure the % of demand within given distances (i.e. [0, 100, 400] measures the % of demand within 100, 400, and beyond 400 km from any active warehouse)\n",
    "- **Force single sourcing**: If active, each customer can be served by only on active warehouse\n",
    "- **Force uncapacitated**: If active, neglects the capacities of the warehouse (only for p-median problems)\n",
    "- **Ignore fixed cost**: If active. neglects the warehouses' fixed cost\n",
    "- **Force open**: Ensures that the listed warehouses are active in the final solution\n",
    "- **Force closed**: Ensures that the listed warehouses are NOT active in the final solution\n",
    "- **Force allocations**: Ensures that a given customer is allocated to a given warehouse (if the warehouse is active in the final solution) \n",
    "- **Mutually exclusive**: Prevents two warehouses to be simultaneously active at the same time in the final solution\n",
    "- **Unit transport cost**: Transportation cost per unit and km\n",
    "\n",
    "**Warning:** The solver has a time limit of 120 seconds. The solution is within a 5% of real optimum. \n",
    "\n",
    "**Always check your data (warehouses and customers) before running the solver to be sure you are actually solving the right problem!**"
   ]
  },
  {
   "cell_type": "code",
   "execution_count": null,
   "metadata": {},
   "outputs": [],
   "source": [
    "netopt_ui(warehouses=warehouses, customers=customers)"
   ]
  },
  {
   "cell_type": "markdown",
   "metadata": {},
   "source": [
    "If you prefer, you can run the same solver programmatically without using the user interface"
   ]
  },
  {
   "cell_type": "code",
   "execution_count": null,
   "metadata": {
    "colab": {
     "base_uri": "https://localhost:8080/",
     "height": 786
    },
    "id": "YLAvcYiwe9t9",
    "outputId": "366dd49f-803d-4510-b1fa-2d0098244e65"
   },
   "outputs": [],
   "source": [
    "results = netopt(\n",
    "        num_warehouses=9,\n",
    "        warehouses=warehouses,\n",
    "        customers=customers,\n",
    "        objective=\"p-median\",\n",
    "        objective_function=\"mincost\",\n",
    "        unit_transport_cost= 0.025,\n",
    "        mutually_exclusive=[],\n",
    "        plot=True,\n",
    "        plot_size= (8, 12),\n",
    "        hide_inactive=False,\n",
    "        force_single_sourcing=False,\n",
    "        force_uncapacitated=False,\n",
    "        ignore_fixed_cost=False,\n",
    "        force_open=[],\n",
    "        force_closed=[],\n",
    "        force_allocations=[],\n",
    "        warehouse_marker=\"s\",\n",
    "        warehouse_markercolor=\"red\",\n",
    "        warehouse_markersize=6,\n",
    "        customer_marker=\"s\",\n",
    "        customer_markercolor=\"blue\",\n",
    "        customer_markersize=4,\n",
    "        print_model=True\n",
    "    )"
   ]
  },
  {
   "cell_type": "markdown",
   "metadata": {},
   "source": [
    "To show the assignments, run the following with the result of the _netopt()_ function: "
   ]
  },
  {
   "cell_type": "code",
   "execution_count": null,
   "metadata": {},
   "outputs": [],
   "source": [
    "show_assignments(results)"
   ]
  },
  {
   "cell_type": "markdown",
   "metadata": {},
   "source": [
    "**Service levels**\n",
    "\n",
    "By adding the parameter distance_ranges the functions returns the % of the demand within the passed distance ranges. \n",
    "For example, if distance_ranges = [0, 100, 400] the functions return the percentage of demand in the ranges [0, 100], (100, 400], (400, 99999]\n",
    "where 99999 is used to represent a very long distance (i.e. infinite distance).\n",
    "\n",
    "The parameter distance_ranges must be a list of increasing numbers. If you do not pass 0 as the first value it will be automatically added\n",
    "\n",
    "\n",
    "**Force warehouses open or close**\n",
    "\n",
    "It is possible to force warehouses to be open (for example, to force using the current warehouse) or closed (to avoid the selection of some candidates).\n",
    "\n",
    "The warehouses are references through their id, and must be passed as list [] (even for a single value, that is to force closed the warehouse with id 1 you should pass force_closed=[1])\n",
    "\n",
    "The id of the warehouses can be found in the 'warehouses' variable using the *show_data()* method.\n",
    "\n",
    "\n",
    "**Mutually exclusive facilities**\n",
    "\n",
    "In some cases, some facilities may be _mutually exclusive_, that is the presence of one facility excludes the activation of another one and viceversa.\n",
    "\n",
    "For example, let's assume that facilities 1, 9 and 15 are mutually exclusive (either one of them or none of them can be selected). Similarly, warehouse 2 and 4 are mutually exclusive (but they are not exclusive with respect to 1, 9 and 15). This can be formulated by passing the parameter\n",
    "\n",
    "_mutually_exclusive = [(1, 9, 15), (2, 4)]_\n",
    "\n",
    "It is possible to set any number of mutually exclusive sets (each set is a tuple in a list). This constraint is useful when we have different alternatives (for example, different sizes) for the same facility.\n",
    "\n",
    "**Remove the single-source constraint**\n",
    "\n",
    "The model implicitly stipulates the single-source constraint (each customer is served by exactly one warehouse). When dealing with capacities, it may be useful to relax this constraint to better exploit the available capacity.\n",
    "\n"
   ]
  },
  {
   "cell_type": "markdown",
   "metadata": {},
   "source": [
    "## Change the data ##\n",
    "\n",
    "There are different ways to change the data. You can use _add_warehouse_ui()_, _edit_warehouse_ui()_ and _delete_warehouse_ui()_ to change the warehouses data using a user interface. You must pass the variable containing the data as parameter."
   ]
  },
  {
   "cell_type": "code",
   "execution_count": null,
   "metadata": {},
   "outputs": [],
   "source": [
    "add_warehouse_ui(warehouses=warehouses)"
   ]
  },
  {
   "cell_type": "code",
   "execution_count": null,
   "metadata": {},
   "outputs": [],
   "source": [
    "# Pay attention: you should pass both the variable containing the warehouse data and the id of the warehouse to modify\n",
    "edit_warehouse_ui(warehouses=warehouses, warehouse_id=5)"
   ]
  },
  {
   "cell_type": "code",
   "execution_count": null,
   "metadata": {},
   "outputs": [],
   "source": [
    "delete_warehouse_ui(warehouses=warehouses)"
   ]
  },
  {
   "cell_type": "markdown",
   "metadata": {},
   "source": [
    "There are also other function to programmatically change data for both warehouses and customers:\n",
    "\n",
    "**Warehouses**\n",
    "\n",
    "- **set_capacity**: Change the capacity of a warehouse. The models consider capacity as throughput of the warehouse.\n",
    "- **set_all_capacities**: Change the capacity of all warehouses with the given capacity\n",
    "- **set_fixed_cost**: Change the yearly fixed_cost of the warehouse.\n",
    "- **set_all_fixed_costs**: Change the fixed_cost of all warehouses with the given fixed_cost\n",
    "\n",
    "**Customers**\n",
    "\n",
    "- **scale_demand**: Scale a customer's demand by factor (i.e. multiplies the current customer's demand by a factor provided by the user)\n",
    "- **scale_all_demands**: Scale all customers' demand by factor\n",
    "- **set_demand**: Set a customer's demand to a given value\n",
    "- **set_all_demands**: Set all customers' demand to a given value\n"
   ]
  },
  {
   "cell_type": "markdown",
   "metadata": {
    "id": "B1acA3CXqSkN"
   },
   "source": [
    "## From here on, it is up to you! ##"
   ]
  },
  {
   "cell_type": "code",
   "execution_count": null,
   "metadata": {},
   "outputs": [],
   "source": []
  }
 ],
 "metadata": {
  "colab": {
   "provenance": []
  },
  "kernelspec": {
   "display_name": "Python 3 (ipykernel)",
   "language": "python",
   "name": "python3"
  },
  "language_info": {
   "codemirror_mode": {
    "name": "ipython",
    "version": 3
   },
   "file_extension": ".py",
   "mimetype": "text/x-python",
   "name": "python",
   "nbconvert_exporter": "python",
   "pygments_lexer": "ipython3",
   "version": "3.12.6"
  }
 },
 "nbformat": 4,
 "nbformat_minor": 4
}
