{
 "cells": [
  {
   "cell_type": "markdown",
   "id": "d7247289-b021-4bf2-8c7b-a1f875dfce42",
   "metadata": {},
   "source": [
    "## Company H case study ##"
   ]
  },
  {
   "cell_type": "markdown",
   "id": "3d62b4b4-9807-47a8-8da7-b2bcfb085555",
   "metadata": {},
   "source": [
    "As part of the Supply Chain Management and Logistics Network Design course - Master's degree in Management Engineering - University of Bergamo\n",
    "\n",
    "(c) Prof. Roberto Pinto\n",
    "\n",
    "**This notebook contains all the data and functions required by the Company H case study. To use this notebook, please refer to the documentation provided during the course**"
   ]
  },
  {
   "cell_type": "markdown",
   "id": "f192b745-5b86-4ade-96f9-bcc03d048653",
   "metadata": {},
   "source": [
    "Import functions and data"
   ]
  },
  {
   "cell_type": "code",
   "execution_count": null,
   "id": "63528337-0fa8-475d-a618-aafbc8203444",
   "metadata": {},
   "outputs": [],
   "source": [
    "# Functions\n",
    "from netopt import netopt, print_solution, plot_map\n",
    "from data_structures import (show_data, show_geo_map, set_capacity, set_all_capacities, set_fixed_cost,\n",
    "                             set_all_fixed_costs, scale_demand, scale_all_demands, set_demand,\n",
    "                             set_all_demands, calculate_dm, show_assignments, get_demand, get_capacity, add_warehouse_from_data)\n",
    "# Data \n",
    "from data.projectwork23_24_data import warehouses, customers"
   ]
  },
  {
   "cell_type": "markdown",
   "id": "95545ec2-7545-452f-9496-7833999ccff0",
   "metadata": {},
   "source": [
    "The functions available are the following:\n",
    "- calculate_dm() - calculates the distance matrix between origins and destinations\n",
    "- netopt() - solves the optimization model\n",
    "- set_capacity() - changes the capacity of a warehouse\n",
    "- set_all_capacities() - changes the capacity of all warehouses\n",
    "- set_fixed_cost() - changes the yearly fixed cost of a warehouse\n",
    "- set_all_fixed_costs() - changes the yearly fixed cost of all warehouses\n",
    "- scale_demand() - scales the demand of a customer by a factor\n",
    "- scale_all_demands() - scales the demand of all customer by a factor\n",
    "- set_demand() - changes the demand of a customer\n",
    "- set_all_demands() - changes the demand of all customers\n",
    "- print_solution() - prints detail of the solution\n",
    "- plot_map() - plots the map of customers and warehouses\n",
    "- show_geo_map() - plots the map of customers and warehouses on a geo graphic map\n",
    "- show_assignments() - displays the assignements\n",
    "- show_data() - shows the data in tabular form\n",
    "- get_demand() - returns the total demand of a set of customers\n",
    "- get_capacity() - returns the total capacity of a set of warehouses\n",
    "- add_warehouse_from_data() - add a new warehouse to the current set of warehouses\n",
    "\n",
    "\n",
    "**Type the function name without parentheses and preceeded by _?_ to access a short description of the function and the parameters**\n",
    "\n",
    "Example:"
   ]
  },
  {
   "cell_type": "code",
   "execution_count": null,
   "id": "a4b95ce4-3441-4acf-a3b1-9223fc967432",
   "metadata": {},
   "outputs": [],
   "source": [
    "?netopt"
   ]
  },
  {
   "cell_type": "markdown",
   "id": "9cdbcc3d-c9fa-4bad-be39-c150bf521c32",
   "metadata": {},
   "source": [
    "**Show data**\n",
    "\n",
    "Each customer represents a set of shops in a given area (for example, the _Paris_ customers is the aggregation of all the shops in the Paris area).\n",
    "\n",
    "The capacity of the warehouses represents the maximum daily throughput, whereas the customers demand represent the daily orders from each customer."
   ]
  },
  {
   "cell_type": "code",
   "execution_count": null,
   "id": "61e98f60-8f7b-4ca8-8429-02aa4d81cba2",
   "metadata": {},
   "outputs": [],
   "source": [
    "show_data(warehouses)"
   ]
  },
  {
   "cell_type": "code",
   "execution_count": null,
   "id": "6cd9eb3c-e36b-4fc9-b8e6-e759302db9bc",
   "metadata": {},
   "outputs": [],
   "source": [
    "show_data(customers)"
   ]
  },
  {
   "cell_type": "code",
   "execution_count": null,
   "id": "c04a6484-70e4-47d5-8ccb-fa44bc93cf06",
   "metadata": {},
   "outputs": [],
   "source": [
    "show_geo_map(warehouses=warehouses, customers=customers, zoom=6)"
   ]
  },
  {
   "cell_type": "markdown",
   "id": "b5a8ed2e-1b27-4b33-a8f0-afcb14312e7e",
   "metadata": {},
   "source": [
    "**Don't forget to compute the distance matrix before solving any instance!**"
   ]
  },
  {
   "cell_type": "code",
   "execution_count": null,
   "id": "beb3753d-8810-4325-9365-521146f66c1a",
   "metadata": {},
   "outputs": [],
   "source": [
    "distance = calculate_dm(warehouses=warehouses, customers=customers)"
   ]
  },
  {
   "cell_type": "markdown",
   "id": "3336c72a-f1b6-45dd-af06-dc58a8773510",
   "metadata": {},
   "source": [
    "Solve the baseline case with all warehouses active (p = 11) minimizing the total cost"
   ]
  },
  {
   "cell_type": "code",
   "execution_count": null,
   "id": "14440e74-dc87-462b-ba4a-a7551e9abbb3",
   "metadata": {},
   "outputs": [],
   "source": [
    "results = netopt(num_warehouses=11,  # this is the p parameter in the p-median problem\n",
    "                 objective='mincost',\n",
    "                 warehouses=warehouses,\n",
    "                 customers=customers,\n",
    "                 distance=distance,\n",
    "                 plot=True,\n",
    "                 hide_inactive=False,\n",
    "                 force_closed=[],\n",
    "                 force_open=[],\n",
    "                 force_allocations=[],\n",
    "                 force_uncapacitated=True,\n",
    "                 force_single_sourcing=False,\n",
    "                 ignore_fixed_cost=False,\n",
    "                 unit_transport_cost=0.01,\n",
    "                 distance_ranges=[],\n",
    "                 warehouse_marker='s',\n",
    "                 warehouse_markercolor='red',\n",
    "                 warehouse_markersize=6,\n",
    "                 warehouse_active_markersize=12,\n",
    "                 customer_marker='o',\n",
    "                 customer_markercolor='blue',\n",
    "                 customer_markersize=1)"
   ]
  },
  {
   "cell_type": "markdown",
   "id": "a8199673-d1e5-4ed4-b914-46917088e14a",
   "metadata": {},
   "source": [
    "## From here on, it is up to you! ##"
   ]
  },
  {
   "cell_type": "code",
   "execution_count": null,
   "id": "7794fe65-0276-4b65-a185-63ca037a8aed",
   "metadata": {},
   "outputs": [],
   "source": []
  }
 ],
 "metadata": {
  "kernelspec": {
   "display_name": "Python 3 (ipykernel)",
   "language": "python",
   "name": "python3"
  },
  "language_info": {
   "codemirror_mode": {
    "name": "ipython",
    "version": 3
   },
   "file_extension": ".py",
   "mimetype": "text/x-python",
   "name": "python",
   "nbconvert_exporter": "python",
   "pygments_lexer": "ipython3",
   "version": "3.11.6"
  }
 },
 "nbformat": 4,
 "nbformat_minor": 5
}
