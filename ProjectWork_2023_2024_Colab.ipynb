{
 "cells": [
  {
   "cell_type": "markdown",
   "metadata": {
    "id": "FbxzjHSBfPYY"
   },
   "source": [
    "# The Company H Case Study"
   ]
  },
  {
   "cell_type": "markdown",
   "metadata": {
    "id": "1pRN9SfgfaZ3"
   },
   "source": [
    "As part of the Supply Chain Management and Logistics Network Design course - Master's degree in Management Engineering - University of Bergamo\n",
    "\n",
    "(c) Prof. Roberto Pinto"
   ]
  },
  {
   "cell_type": "markdown",
   "metadata": {
    "id": "esHAP5-2fcxV"
   },
   "source": [
    "**This notebook contains all the data and functions required by the Company H case study. To use this notebook, please refer to the documentation provided during the course**"
   ]
  },
  {
   "cell_type": "code",
   "execution_count": null,
   "metadata": {
    "colab": {
     "base_uri": "https://localhost:8080/"
    },
    "id": "cco7OdqedpI4",
    "outputId": "40edbfe8-ccae-44ad-c2b5-90363a5eeab0"
   },
   "outputs": [],
   "source": [
    "# Prepare the notebook\n",
    "!git clone --branch projectwork_23_24 https://github.com/ropinotex/network_optimization.git\n",
    "import sys\n",
    "sys.path.insert(0,'/content/network_optimization')\n",
    "\n",
    "!pip install -r /content/network_optimization/requirements.txt"
   ]
  },
  {
   "cell_type": "markdown",
   "metadata": {
    "id": "2isqVhxUpYMF"
   },
   "source": [
    "Import functions and data"
   ]
  },
  {
   "cell_type": "code",
   "execution_count": null,
   "metadata": {
    "id": "1_lfpokZeXhb"
   },
   "outputs": [],
   "source": [
    "# Functions\n",
    "from netopt import netopt, print_solution, plot_map\n",
    "from data_structures import (show_data, show_geo_map, set_capacity, set_all_capacities, set_fixed_cost,\n",
    "                             set_all_fixed_costs, scale_demand, scale_all_demands, set_demand,\n",
    "                             set_all_demands, calculate_dm, show_assignments, get_demand, get_capacity, add_warehouse_from_data)\n",
    "# Data\n",
    "from data.projectwork23_24_data import warehouses, customers"
   ]
  },
  {
   "cell_type": "markdown",
   "metadata": {
    "id": "sVzD2Q7Kpe_e"
   },
   "source": [
    "The functions available are the following:\n",
    "- calculate_dm() - calculates the distance matrix between origins and destinations\n",
    "- netopt() - solves the optimization model\n",
    "- set_capacity() - changes the capacity of a warehouse\n",
    "- set_all_capacities() - changes the capacity of all warehouses\n",
    "- set_fixed_cost() - changes the yearly fixed cost of a warehouse\n",
    "- set_all_fixed_costs() - changes the yearly fixed cost of all warehouses\n",
    "- scale_demand() - scales the demand of a customer by a factor\n",
    "- scale_all_demands() - scales the demand of all customer by a factor\n",
    "- set_demand() - changes the demand of a customer\n",
    "- set_all_demands() - changes the demand of all customers\n",
    "- print_solution() - prints detail of the solution\n",
    "- plot_map() - plots the map of customers and warehouses\n",
    "- show_geo_map() - plots the map of customers and warehouses on a geo graphic map\n",
    "- show_assignments() - displays the assignements\n",
    "- show_data() - shows the data in tabular form\n",
    "- get_demand() - returns the total demand of a set of customers\n",
    "- get_capacity() - returns the total capacity of a set of warehouses\n",
    "- add_warehouse_from_data() - add a new warehouse to the current set of warehouses\n",
    "\n",
    "\n",
    "**Type the function name without parentheses and preceeded by _?_ to access a short description of the function and the parameters**\n",
    "\n",
    "Example:"
   ]
  },
  {
   "cell_type": "code",
   "execution_count": null,
   "metadata": {
    "id": "ltRqRxEVep3Q"
   },
   "outputs": [],
   "source": [
    "?netopt"
   ]
  },
  {
   "cell_type": "markdown",
   "metadata": {
    "id": "AXbo1LgvptrF"
   },
   "source": [
    "**Show data**\n",
    "\n",
    "The capacity of the warehouses represents the maximum daily throughput, whereas the customers demand represent the daily orders from each customer."
   ]
  },
  {
   "cell_type": "code",
   "execution_count": null,
   "metadata": {
    "colab": {
     "base_uri": "https://localhost:8080/"
    },
    "id": "3aeVL2OuexfH",
    "outputId": "08d3b698-7c81-4559-95cb-4eb3a64c77c0"
   },
   "outputs": [],
   "source": [
    "show_data(warehouses)"
   ]
  },
  {
   "cell_type": "code",
   "execution_count": null,
   "metadata": {
    "colab": {
     "base_uri": "https://localhost:8080/"
    },
    "id": "7VgUMt_xe3Hu",
    "outputId": "0877cb31-f386-4d5b-918c-1427122fe7eb"
   },
   "outputs": [],
   "source": [
    "show_data(customers)"
   ]
  },
  {
   "cell_type": "code",
   "execution_count": null,
   "metadata": {
    "colab": {
     "base_uri": "https://localhost:8080/",
     "height": 442
    },
    "id": "cI6VTgFPesrb",
    "outputId": "eeab6c3f-e501-47f0-ba6d-63b7b99f0542"
   },
   "outputs": [],
   "source": [
    "show_geo_map(warehouses=warehouses, customers=customers, zoom=6)"
   ]
  },
  {
   "cell_type": "markdown",
   "metadata": {
    "id": "_TCpxbSSqAp9"
   },
   "source": [
    "**Don't forget to compute the distance matrix before solving any instance!**"
   ]
  },
  {
   "cell_type": "code",
   "execution_count": null,
   "metadata": {
    "id": "XwtQJPape9Xm"
   },
   "outputs": [],
   "source": [
    "distance = calculate_dm(warehouses=warehouses, customers=customers)"
   ]
  },
  {
   "cell_type": "markdown",
   "metadata": {
    "id": "J252ayMRqLGD"
   },
   "source": [
    "Solve a generic case"
   ]
  },
  {
   "cell_type": "code",
   "execution_count": null,
   "metadata": {
    "colab": {
     "base_uri": "https://localhost:8080/",
     "height": 786
    },
    "id": "YLAvcYiwe9t9",
    "outputId": "366dd49f-803d-4510-b1fa-2d0098244e65"
   },
   "outputs": [],
   "source": [
    "results = netopt(num_warehouses=1,  # this is the p parameter in the p-median problem\n",
    "                 objective='mincost',\n",
    "                 warehouses=warehouses,\n",
    "                 customers=customers,\n",
    "                 distance=distance,\n",
    "                 plot=True,\n",
    "                 hide_inactive=False,\n",
    "                 force_closed=[],\n",
    "                 force_open=[],\n",
    "                 force_allocations=[],\n",
    "                 force_uncapacitated=True,\n",
    "                 force_single_sourcing=False,\n",
    "                 ignore_fixed_cost=False,\n",
    "                 unit_transport_cost=0.01,\n",
    "                 distance_ranges=[],\n",
    "                 warehouse_marker='s',\n",
    "                 warehouse_markercolor='red',\n",
    "                 warehouse_markersize=6,\n",
    "                 warehouse_active_markersize=12,\n",
    "                 customer_marker='o',\n",
    "                 customer_markercolor='blue',\n",
    "                 customer_markersize=1)"
   ]
  },
  {
   "cell_type": "markdown",
   "metadata": {
    "id": "B1acA3CXqSkN"
   },
   "source": [
    "## From here on, it is up to you! ##"
   ]
  },
  {
   "cell_type": "code",
   "execution_count": null,
   "metadata": {
    "id": "GqVH_navfArp"
   },
   "outputs": [],
   "source": []
  }
 ],
 "metadata": {
  "colab": {
   "provenance": []
  },
  "kernelspec": {
   "display_name": "Python 3 (ipykernel)",
   "language": "python",
   "name": "python3"
  },
  "language_info": {
   "codemirror_mode": {
    "name": "ipython",
    "version": 3
   },
   "file_extension": ".py",
   "mimetype": "text/x-python",
   "name": "python",
   "nbconvert_exporter": "python",
   "pygments_lexer": "ipython3",
   "version": "3.11.6"
  }
 },
 "nbformat": 4,
 "nbformat_minor": 4
}
